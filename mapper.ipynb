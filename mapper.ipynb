{
 "cells": [
  {
   "cell_type": "code",
   "execution_count": 1,
   "metadata": {},
   "outputs": [],
   "source": [
    "%config IPCompleter.greedy=True"
   ]
  },
  {
   "cell_type": "code",
   "execution_count": null,
   "metadata": {},
   "outputs": [],
   "source": []
  },
  {
   "cell_type": "markdown",
   "metadata": {},
   "source": [
    "Converting sites from url to number"
   ]
  },
  {
   "cell_type": "code",
   "execution_count": null,
   "metadata": {},
   "outputs": [],
   "source": []
  },
  {
   "cell_type": "code",
   "execution_count": 38,
   "metadata": {},
   "outputs": [],
   "source": [
    "filename = \"CourseraAdjacency.txt\"\n",
    "lastnum = 1\n",
    "maplist = dict()\n",
    "sites = []\n",
    "with open(filename,'r') as f:\n",
    "    for line in f.readlines():\n",
    "        parts = line.split()\n",
    "        if len(parts) < 3:\n",
    "            continue\n",
    "        if not (parts[0] in maplist):\n",
    "            maplist[parts[0]] = lastnum\n",
    "            sites.append((parts[0],lastnum))\n",
    "            lastnum = lastnum + 1\n",
    "        if not (parts[2] in maplist):\n",
    "            maplist[parts[2]] = lastnum\n",
    "            sites.append((parts[2],lastnum))\n",
    "            lastnum = lastnum + 1\n",
    "        "
   ]
  },
  {
   "cell_type": "code",
   "execution_count": 45,
   "metadata": {},
   "outputs": [],
   "source": [
    "out = open(\"enumsite.txt\", \"w\")\n",
    "with open(filename,'r') as f:\n",
    "    for line in f.readlines():\n",
    "        parts = line.split()\n",
    "        if len(parts) < 3:\n",
    "            continue\n",
    "        out.write(str(maplist[parts[0]]) + \" \" + str(maplist[parts[2]]) + \"\\n\")\n",
    "out.close()"
   ]
  },
  {
   "cell_type": "code",
   "execution_count": 50,
   "metadata": {},
   "outputs": [],
   "source": [
    "out = open(\"sitemap.txt\", \"w\")\n",
    "with open(filename,'r') as f:\n",
    "    for maps in sites:\n",
    "        out.write(str(maps[0]) + \" \" + str(maps[1]) + \"\\n\")\n",
    "out.close()"
   ]
  }
 ],
 "metadata": {
  "kernelspec": {
   "display_name": "Python 3",
   "language": "python",
   "name": "python3"
  },
  "language_info": {
   "codemirror_mode": {
    "name": "ipython",
    "version": 3
   },
   "file_extension": ".py",
   "mimetype": "text/x-python",
   "name": "python",
   "nbconvert_exporter": "python",
   "pygments_lexer": "ipython3",
   "version": "3.7.3"
  }
 },
 "nbformat": 4,
 "nbformat_minor": 2
}
