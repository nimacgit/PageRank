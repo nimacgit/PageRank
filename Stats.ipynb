{
 "cells": [
  {
   "cell_type": "code",
   "execution_count": 1,
   "metadata": {},
   "outputs": [],
   "source": [
    "%config IPCompleter.greedy=True"
   ]
  },
  {
   "cell_type": "code",
   "execution_count": null,
   "metadata": {},
   "outputs": [],
   "source": []
  },
  {
   "cell_type": "code",
   "execution_count": 8,
   "metadata": {},
   "outputs": [],
   "source": [
    "filename = \"enumsite.txt\"\n",
    "edges = []\n",
    "with open(filename,'r') as f:\n",
    "    for line in f.readlines():\n",
    "        parts = line.split()\n",
    "        edges.append((parts[0],parts[1]))\n",
    "        "
   ]
  },
  {
   "cell_type": "code",
   "execution_count": 40,
   "metadata": {},
   "outputs": [],
   "source": [
    "inDeg = dict()\n",
    "outDeg = dict()"
   ]
  },
  {
   "cell_type": "code",
   "execution_count": 74,
   "metadata": {},
   "outputs": [],
   "source": [
    "for edge in edges:\n",
    "    inDeg.setdefault(str(edge[1]), 0)\n",
    "    inDeg.setdefault(str(edge[0]), 0)\n",
    "    outDeg.setdefault(str(edge[0]), 0)\n",
    "    outDeg.setdefault(str(edge[1]), 0)\n",
    "    inDeg[edge[1]] = inDeg[edge[1]] + 1\n",
    "    outDeg[edge[0]] = outDeg[edge[0]] + 1"
   ]
  },
  {
   "cell_type": "code",
   "execution_count": 75,
   "metadata": {},
   "outputs": [],
   "source": [
    "inDeglist = []\n",
    "outDeglist = []\n",
    "for deg in inDeg:\n",
    "    inDeglist.append((inDeg[deg],deg))\n",
    "for deg in outDeg:\n",
    "    outDeglist.append((outDeg[deg],deg))"
   ]
  },
  {
   "cell_type": "code",
   "execution_count": 76,
   "metadata": {},
   "outputs": [],
   "source": [
    "inDeglist.sort(reverse=True)\n",
    "outDeglist.sort(reverse=True)\n",
    "\n",
    "filename = \"inDeg.txt\"\n",
    "with open(filename,'w') as f:\n",
    "    for deg,node in inDeglist:\n",
    "        f.write(str(node) + \" \" + str(deg) + \"\\n\")\n",
    "filename = \"outDeg.txt\"\n",
    "with open(filename,'w') as f:\n",
    "    for deg,node in outDeglist:\n",
    "        f.write(str(node) + \" \" + str(deg) + \"\\n\")"
   ]
  },
  {
   "cell_type": "code",
   "execution_count": null,
   "metadata": {},
   "outputs": [],
   "source": []
  },
  {
   "cell_type": "code",
   "execution_count": 92,
   "metadata": {},
   "outputs": [
    {
     "name": "stdout",
     "output_type": "stream",
     "text": [
      "127.81285526891124\n",
      "163.58644470596477\n",
      "127.81285526891124\n",
      "694.2479833779469\n"
     ]
    }
   ],
   "source": [
    "from statistics import *\n",
    "\n",
    "\n",
    "outdeg =[]\n",
    "for x in outDeglist:\n",
    "    outdeg.append(int(x[0]))\n",
    "    \n",
    "indeg =[]\n",
    "for x in inDeglist:\n",
    "    indeg.append(int(x[0]))\n",
    "print(mean(outdeg))\n",
    "print(stdev(outdeg))\n",
    "\n",
    "print(mean(indeg))\n",
    "print(stdev(indeg))"
   ]
  },
  {
   "cell_type": "code",
   "execution_count": null,
   "metadata": {},
   "outputs": [],
   "source": [
    "\n",
    "        "
   ]
  },
  {
   "cell_type": "code",
   "execution_count": null,
   "metadata": {},
   "outputs": [],
   "source": []
  },
  {
   "cell_type": "code",
   "execution_count": null,
   "metadata": {},
   "outputs": [],
   "source": []
  }
 ],
 "metadata": {
  "kernelspec": {
   "display_name": "Python 3",
   "language": "python",
   "name": "python3"
  },
  "language_info": {
   "codemirror_mode": {
    "name": "ipython",
    "version": 3
   },
   "file_extension": ".py",
   "mimetype": "text/x-python",
   "name": "python",
   "nbconvert_exporter": "python",
   "pygments_lexer": "ipython3",
   "version": "3.7.3"
  }
 },
 "nbformat": 4,
 "nbformat_minor": 2
}
